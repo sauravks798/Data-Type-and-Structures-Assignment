{
  "nbformat": 4,
  "nbformat_minor": 0,
  "metadata": {
    "colab": {
      "provenance": []
    },
    "kernelspec": {
      "name": "python3",
      "display_name": "Python 3"
    },
    "language_info": {
      "name": "python"
    }
  },
  "cells": [
    {
      "cell_type": "markdown",
      "source": [
        "#Data Types and Structures Assignment\n"
      ],
      "metadata": {
        "id": "ogbsh6ILZMu0"
      }
    },
    {
      "cell_type": "markdown",
      "source": [
        "1. What are data structures, and why are they important?\n",
        "  - Data structures are specialized formats for organizing, storing, and accessing collections of data. They provide efficient ways to manage information based on its characteristics and intended use.\n",
        "  - Think of them as containers that hold your data and determine how you can interact with it. Different containers are better suited for different types of items.\n",
        "  \n",
        "  - Why are they important :-\n",
        "\n",
        "      * Choosing the right data structure significantly impacts the efficiency and performance of your program.\n",
        "      * Well-chosen data structures can:\n",
        "      * Simplify data manipulation (adding, removing, modifying elements)\n",
        "      * Optimize searching and sorting operations Conserve memory usage\n",
        "\n",
        "\n",
        "2. Explain the difference between mutable and immutable data types with examples?\n",
        "  - 1. Mutable Data Types\n",
        "Mutable objects can be changed after they are created. This means you can modify their contents without changing their memory address.\n",
        "\n",
        "  - Examples of Mutable Data Types:-\n",
        "      \n",
        "      * Lists (list)\n",
        "\n",
        "      * Dictionaries (dict)\n",
        "\n",
        "      * Sets (set)\n",
        "\n",
        "      * Byte Arrays (bytearray)\n",
        "  - Immutable Data Types\n",
        "Immutable objects cannot be changed after they are created. Any modification creates a new object in memory.\n",
        "\n",
        "  - Examples of Immutable Data Types:-\n",
        "\n",
        "      * Integers (int)\n",
        "\n",
        "      * Floats (float)\n",
        "\n",
        "      * Strings (str)\n",
        "\n",
        "      * Tuples (tuple)\n",
        "\n",
        "      * Booleans (bool)\n",
        "\n",
        "3. What are the main differences between lists and tuples in Python?\n",
        "  - The main differences between lists and tuples is lists is Mutable can be modified and tuples is immutable cannot be modified.\n",
        "\n",
        "4.  Describe how dictionaries store data?\n",
        "  - In Python dictionaries store data as key-value pairs using a hash table implementation.\n",
        "  - Each dictionary entry consists of a key( which must be immutable, like a string, number, or tuple) and a value(which can be any data type).\n",
        "  - Python uses a hash function to convert each key into a unique integer.\n",
        "  - This hash value determines where the key-value pair is stored in memory, making lookups very fast.\n",
        "\n",
        "5. Why might you use a set instead of a list in Python?\n",
        "  - In Python, both sets and lists are used to store collections of elements, but they have key differences that make sets more suitable for certain use cases. A set is an unordered collection of unique elements, whereas a list is an ordered collection that allows duplicates.\n",
        "\n",
        "  * Ensuring Uniqueness :- One of the main reasons to use a set instead of a list is when you need to store only unique elements. Unlike lists, sets automatically remove duplicate values.\n",
        "\n",
        "  - When to Avoid Using Sets :- Despite their advantages sets are not always the best choice. If the order of elements is important or if duplicate values need to be preserved, a list is a better option. Additionally, sets only allow immutable elements like numbers, strings, and tuples, meaning lists or dictionaries cannot be stored inside sets."
      ],
      "metadata": {
        "id": "PsIZRntVZraC"
      }
    },
    {
      "cell_type": "code",
      "source": [
        "# 6. What is a string in Python, and how is it different from a list?\n",
        "\n",
        "# A string is a sequence of characters enclosed within single quotes or double quotes or triple quotes.\n",
        "# Example: 'saurav', \"saurav\", '''saurav'''\n",
        "# Example: 's', 'a', 'u', 'r', 'a', 'v'\n",
        "# It is one of the most commonly used data structures in Python\n",
        "\n",
        "s = \"saurav\"\n",
        "print(s) # saurav\n",
        "print(type(s)) # <class 'str'>\n",
        "\n",
        "# Different between string and lists :-\n",
        "# String:-\n",
        "\n",
        "# string is immutable\n",
        "# string is stores characters only\n",
        "# string can not modified it is\tRequires creating a new string\n",
        "\n",
        "# Lists :-\n",
        "\n",
        "# lists is mutable\n",
        "# lists is stores elements of any data type\n",
        "# lists Can be modified directly"
      ],
      "metadata": {
        "colab": {
          "base_uri": "https://localhost:8080/"
        },
        "id": "moHhIDaxic_G",
        "outputId": "ce5c1eb6-a1e6-4b4c-d9e4-15d3d243d517"
      },
      "execution_count": null,
      "outputs": [
        {
          "output_type": "stream",
          "name": "stdout",
          "text": [
            "saurav\n",
            "<class 'str'>\n"
          ]
        }
      ]
    },
    {
      "cell_type": "markdown",
      "source": [
        "7. How do tuples ensure data integrity in Python?\n",
        "  - Tuples in Python ensure data integrity primarily through immutability and hashability.\n",
        "  - Immutability :- Once a tuple is created, its elements cannot be modified, added, or removed.\n",
        "\n",
        "  - This prevents accidental changes, ensuring data remains consistent throughout the program.\n",
        "  - Hashability :- Since tuples are immutable, they can be hashed and used as keys in dictionaries or elements in sets.\n",
        "\n",
        "  - This ensures data integrity when storing unique records.\n",
        "\n",
        "8. What is a hash table, and how does it relate to dictionaries in Python?\n",
        "  \n",
        "  - A hash table is a data structure that stores key-value pairs using a hash function to determine an index for fast lookups. It allows for efficient retrieval, insertion, and deletion of data, usually in O(1) time complexity on average.\n",
        "  \n",
        "  - Hashing the Key :- When a key is added to a dictionary, Python applies a hash function (hash(key)) to generate a unique integer (hash value).\n",
        "\n",
        "  - Index Calculation :- The hash value is used to determine an index in an internal array where the key-value pair is stored.\n",
        "  \n",
        "  - Handling Collisions :- Sometimes, two different keys may generate the same hash value (collision). Python handles this using open addressing  or chaining.\n",
        "\n",
        "  - Fast Lookups & Updates :- When searching for a key, Python rehashes the key and quickly finds the index.\n",
        "\n",
        "9. Can lists contain different data types in Python?\n",
        "  - Yes, lists in Python can contain different data types. Unlike some programming languages that require lists to store elements of the same type, Python lists are heterogeneous, meaning they can store a mix of integers, floats, strings, booleans, other lists, dictionaries, tuples."
      ],
      "metadata": {
        "id": "PEaqX9ZLxuD7"
      }
    },
    {
      "cell_type": "code",
      "source": [
        "# Example\n",
        "my_list = [42, \"hello\", 3.14, True, [1, 2, 3], {\"key\": \"value\"}, (4, 5)]\n",
        "print(my_list)"
      ],
      "metadata": {
        "colab": {
          "base_uri": "https://localhost:8080/"
        },
        "id": "h5HQFTl9GiHn",
        "outputId": "e7aa65f1-bb21-4ffa-e1f4-849a361c66d6"
      },
      "execution_count": null,
      "outputs": [
        {
          "output_type": "stream",
          "name": "stdout",
          "text": [
            "[42, 'hello', 3.14, True, [1, 2, 3], {'key': 'value'}, (4, 5)]\n"
          ]
        }
      ]
    },
    {
      "cell_type": "markdown",
      "source": [
        "10. Explain why strings are immutable in Python?\n",
        "  - strings are immutable meaning their contents cannot be changed after creation. If any modification is needed, a new string must be created instead.\n",
        "  - Strings are stored in memory as sequences of characters, and making them immutable helps in memory optimization. Since Python reuses strings with the same value (string interning), immutability prevents accidental changes that could affect multiple variables.\n",
        "  - Strings are widely used for storing critical data (such as file paths, database queries, or passwords), immutability ensures they remain unchanged unless explicitly reassigned.\n",
        "  - Strings can be used as keys in dictionaries. This would not be possible if strings were mutable, as changing a key would break dictionary structure.\n",
        "  - Immutability ensures thread safety, meaning multiple threads can access strings without risk of unexpected modifications. This prevents race conditions and makes programs more reliable.\n",
        "\n",
        "11. What advantages do dictionaries offer over lists for certain tasks?\n",
        "\n",
        "  - Dictionaries and lists are both fundamental data structures but dictionaries offer significant advantages in specific scenarios, mainly due to their key-value structure and hash table implementation.\n",
        "\n",
        "  - Key-Value Mapping for Better Organization :-\n",
        "      * Dictionaries: Store data in key-value pairs, making it easier to associate and retrieve values meaningfully.\n",
        "\n",
        "      * Lists: Store elements sequentially, requiring manual searching to find an associated value.\n",
        "\n",
        "  - Efficient Data Updates & Deletions :-\n",
        "      * Dictionaries: Updating or deleting a key-value pair is O(1) on average.\n",
        "\n",
        "      * Lists: Inserting or deleting elements (except at the end) requires O(n) shifting operations.\n",
        "\n",
        "  - Avoids Duplicate Keys :-\n",
        "      * Dictionaries: Keys are unique, preventing accidental duplicates.\n",
        "\n",
        "      * Lists: Can contain duplicates, making it harder to track unique elements.\n",
        "\n",
        "12. Describe a scenario where using a tuple would be preferable over a list?\n",
        "  - Tuples and lists are both used to store collections of items in Python, but tuples are immutable, meaning their contents cannot be changed after creation. This makes them ideal for storing fixed, unchangeable data where modification is not required.\n",
        "  \n",
        "  - Scenario: Storing Coordinates (Immutable Data)\n",
        "   Imagine you are developing a mapping application that stores the latitude and longitude of various locations. Since geographic coordinates should not change, using a tuple ensures that the data remains intact.\n",
        "  \n",
        "  - The latitude and longitude of a place do not change, so immutability ensures data integrity.\n",
        "\n",
        "  - Tuples are faster than lists for accessing data, improving performance.\n",
        "\n",
        "  - Tuples can be used as keys in dictionaries, allowing efficient lookup of locations.\n",
        "\n",
        "  - Lists cannot be used as dictionary keys because they are mutable.\n",
        "\n",
        "\n",
        "13. How do sets handle duplicate values in Python?\n",
        "  - In Python sets automatically remove duplicate values.\n",
        "  - A set is an unordered collection of unique elements, meaning it does not allow duplicate values.\n",
        "  - If duplicate elements are added, Python automatically retains only one copy."
      ],
      "metadata": {
        "id": "7mwniLHFGo58"
      }
    },
    {
      "cell_type": "code",
      "source": [
        "# Example\n",
        "\n",
        "numbers = [1, 2, 2, 3, 4, 4, 5]\n",
        "unique_numbers = set(numbers)\n",
        "\n",
        "print(unique_numbers)"
      ],
      "metadata": {
        "colab": {
          "base_uri": "https://localhost:8080/"
        },
        "id": "XV-WpSehFIc6",
        "outputId": "a5d8e9fd-1be7-42ed-d8d7-39a51f72a8e1"
      },
      "execution_count": null,
      "outputs": [
        {
          "output_type": "stream",
          "name": "stdout",
          "text": [
            "{1, 2, 3, 4, 5}\n"
          ]
        }
      ]
    },
    {
      "cell_type": "markdown",
      "source": [
        "14. How does the “in” keyword work differently for lists and dictionaries?\n",
        "  \n",
        "  -  The in keyword is used in Python to check for the presence of an element in a collection.\n",
        "  However, its behavior differs between lists and dictionaries in terms of search efficiency and what is being checked.\n",
        "\n",
        "  - Using ' in ' with Lists :-  When used with a list, the in keyword checks\n",
        "  if a value exists within the list by performing a linear search (O(n) time complexity).\n",
        "\n",
        "  - Using in with Dictionaries :- When used with a dictionary, the in keyword checks for the presence of a key (not values) and operates in constant time O(1) due to Python’s internal hash table implementation."
      ],
      "metadata": {
        "id": "Uoy5GvxpFLq0"
      }
    },
    {
      "cell_type": "code",
      "source": [
        " # Lists Example :-\n",
        "my_list = [10, 20, 30, 40]\n",
        "\n",
        " print(20 in my_list) # output:True\n",
        " print(50 in my_list) # Output : False\n",
        "\n",
        "# Dictionaries Example :-\n",
        "my_dict = {\"name\": \"Alice\", \"age\": 25, \"city\": \"New York\"}\n",
        "\n",
        "print(\"name\" in my_dict)  # Output: True\n",
        "print(\"Alice\" in my_dict)  # Output: False (Only checks keys, not values)"
      ],
      "metadata": {
        "colab": {
          "base_uri": "https://localhost:8080/"
        },
        "id": "Iv08bgiBFLEX",
        "outputId": "ee6257e1-39f7-4a66-ae68-76fa490d501a"
      },
      "execution_count": null,
      "outputs": [
        {
          "output_type": "stream",
          "name": "stdout",
          "text": [
            "True\n",
            "False\n",
            "True\n",
            "False\n"
          ]
        }
      ]
    },
    {
      "cell_type": "markdown",
      "source": [
        "15. Can you modify the elements of a tuple? Explain why or why not?\n",
        "  - No cannot modify the elements of a tuple in Python because tuples are immutable. This means that once a tuple is created, its elements cannot be changed, added, or removed.\n",
        "\n",
        "  - Why Are Tuples Immutable :-\n",
        "\n",
        "  - Tuples are immutable, Python optimizes their memory usage and performance.\n",
        "\n",
        "  - Tuples can be used as dictionary keys or set elements because they don’t change after creation.\n",
        "\n",
        "  - Tuples preventing modifications ensures data consistency in scenarios where values should remain constant.\n",
        "\n",
        "16. What is a nested dictionary, and give an example of its use case?\n",
        "  \n",
        "  - A nested dictionary is a dictionary inside another dictionary. It helps store complex data in an organized way.\n",
        "  - Use Cases of Nested Dictionaries :-\n",
        "      * Storing Complex Data Structures – Example: JSON-like data representation.\n",
        "\n",
        "      * Organizing Multi-Level Information – Example: Employee database (department-wise details).\n",
        "\n",
        "      * Handling Hierarchical Data – Example: A website’s menu structure.\n",
        "\n",
        "      * Database-like Storage in Memory – Example: API responses, game data, etc."
      ],
      "metadata": {
        "id": "jEYCzujlNW9S"
      }
    },
    {
      "cell_type": "code",
      "source": [
        "# Example\n",
        "\n",
        "students = {\n",
        "    \"S101\": {\n",
        "        \"name\": \"saurav\",\n",
        "        \"department\": \"CS\",\n",
        "        \"marks\": {\"Math\": 85, \"English\": 78, \"CS\": 92},\n",
        "        \"attendance\": 88\n",
        "    },\n",
        "    \"S102\": {\n",
        "        \"name\": \"bittu\",\n",
        "        \"department\": \"IT\",\n",
        "        \"marks\": {\"Math\": 75, \"English\": 70, \"CS\": 80},\n",
        "        \"attendance\": 95\n",
        "    }\n",
        "}\n",
        "\n",
        "print(students[\"S101\"])"
      ],
      "metadata": {
        "colab": {
          "base_uri": "https://localhost:8080/"
        },
        "id": "S5e64P1tvLd5",
        "outputId": "e6cc64fe-2038-4fd4-ed09-d2751a95baaa"
      },
      "execution_count": null,
      "outputs": [
        {
          "output_type": "stream",
          "name": "stdout",
          "text": [
            "{'name': 'saurav', 'department': 'CS', 'marks': {'Math': 85, 'English': 78, 'CS': 92}, 'attendance': 88}\n"
          ]
        }
      ]
    },
    {
      "cell_type": "markdown",
      "source": [
        "17. Describe the time complexity of accessing elements in a dictionary?\n",
        "  - Python dictionaries use hash tables, making element access extremely efficient.\n",
        "  \n",
        "  - Average Case (O(1)) – Constant Time :- Accessing a value by its key is O(1) on average because Python computes the hash of the key and directly retrieves the value from the hash table.\n",
        "  \n",
        "  - Worst Case (O(n)) – Linear Time :- Although rare, the worst case occurs when hash collisions happen frequently causing Python to resolve them via probing or chaining.\n",
        "  \n",
        "  - Best Case (O(1)) – Ideal Condition :- When keys are well-distributed in the hash table, dictionary access remains O(1).\n",
        "\n",
        "18.  In what situations are lists preferred over dictionaries?\n",
        "  - Lists and dictionaries both have their uses, but lists are preferred in this situations :-\n",
        "\n",
        "  - When Order Matters :- Lists preserve order naturally, so if you need to keep elements in sequence, use a list.\n",
        "\n",
        "  - When You Need Index-Based Access :- Lists let you access elements using position , which is useful for ordered data.\n",
        "\n",
        "  - When Storing Similar Data :- Lists are best when all elements are of the same type (e.g., numbers, names).\n",
        "  \n",
        "  - When Memory Usage Is a Concern:- Lists use less memory than dictionaries since they only store values, not key-value pairs.\n",
        "  - When You Don't Need Fast Lookups :- If you don’t need to search by key, a list is simple and more efficient.\n",
        "        \n",
        "        *  Example: A list of numbers uses less memory than a dictionary with numbered keys.\n",
        "\n",
        "19.  Why are dictionaries considered unordered, and how does that affect data retrieval?\n",
        "  - In older versions of Python (before 3.7), dictionaries were unordered, meaning items were stored in random order because they used hash tables for fast lookups. However, starting from Python 3.7, dictionaries preserve the insertion order, but they are still optimized for fast access rather than sequential storage like lists.\n",
        "  - Before Python 3.7 :- You could not rely on the order of items when looping through a dictionary.\n",
        "  - Python 3.7 and Later :- Dictionaries keep items in the order they were added.\n",
        "\n",
        "20.  Explain the difference between a list and a dictionary in terms of data retrieval?\n",
        "  - Lists and dictionaries are both used to store data, but they retrieve data differently due to their underlying structures."
      ],
      "metadata": {
        "id": "8Mxu4uuEwN6t"
      }
    },
    {
      "cell_type": "markdown",
      "source": [
        "#Data Types and Structures Practical Questions"
      ],
      "metadata": {
        "id": "GMf1B4-_4vHD"
      }
    },
    {
      "cell_type": "code",
      "source": [
        "# 1. Write a code to create a string with your name and print it.\n",
        "\n",
        "my_name= \"saurav kumar\"\n",
        "print(my_name)\n",
        "type(my_name)"
      ],
      "metadata": {
        "colab": {
          "base_uri": "https://localhost:8080/"
        },
        "id": "r-3ozcg0vVlz",
        "outputId": "e255a6a7-5ac6-427a-f2d5-0c79e079d74f"
      },
      "execution_count": null,
      "outputs": [
        {
          "output_type": "stream",
          "name": "stdout",
          "text": [
            "saurav kumar\n"
          ]
        },
        {
          "output_type": "execute_result",
          "data": {
            "text/plain": [
              "str"
            ]
          },
          "metadata": {},
          "execution_count": 6
        }
      ]
    },
    {
      "cell_type": "code",
      "source": [
        "# 2. Write a code to find the length of the string \"Hello World\".\n",
        "\n",
        "string= \"Hello world\"\n",
        "lenth= len(string)\n",
        "print(\"lenth of string : \", lenth)"
      ],
      "metadata": {
        "colab": {
          "base_uri": "https://localhost:8080/"
        },
        "id": "EoYCR_sN5hoD",
        "outputId": "ba149f9c-aa06-4622-87d4-f4dcd45f0464"
      },
      "execution_count": null,
      "outputs": [
        {
          "output_type": "stream",
          "name": "stdout",
          "text": [
            "lenth of string :  11\n"
          ]
        }
      ]
    },
    {
      "cell_type": "code",
      "source": [
        "# 3. Write a code to slice the first 3 characters from the string \"Python Programming\".\n",
        "\n",
        "string= \"Python Programing\"\n",
        "slice_string=string[:3]\n",
        "print(\"first 3 characters from the string is : \",slice_string)"
      ],
      "metadata": {
        "colab": {
          "base_uri": "https://localhost:8080/"
        },
        "id": "s328vuaR6EKr",
        "outputId": "47064dd6-6cef-418f-d596-9e4ea57f73f0"
      },
      "execution_count": null,
      "outputs": [
        {
          "output_type": "stream",
          "name": "stdout",
          "text": [
            "first 3 characters from the string is :  Pyt\n"
          ]
        }
      ]
    },
    {
      "cell_type": "code",
      "source": [
        "# 4. Write a code to convert the string \"hello\" to uppercase?\n",
        "\n",
        "string= \"hello\"\n",
        "upper_case=string.upper()\n",
        "print(\"upper case string: \", upper_case)"
      ],
      "metadata": {
        "colab": {
          "base_uri": "https://localhost:8080/"
        },
        "id": "QAkA2m0v9AuO",
        "outputId": "5568027a-fb5e-4091-9295-0cba4411e4b7"
      },
      "execution_count": null,
      "outputs": [
        {
          "output_type": "stream",
          "name": "stdout",
          "text": [
            "upper case string:  HELLO\n"
          ]
        }
      ]
    },
    {
      "cell_type": "code",
      "source": [
        "# 5. Write a code to replace the word \"apple\" with \"orange\" in the string \"I like apple\".\n",
        "\n",
        "string= \"I like apple\"\n",
        "new_string= string.replace(\"apple\",\"orange\")\n",
        "print(\"replaced string : \",new_string)\n"
      ],
      "metadata": {
        "colab": {
          "base_uri": "https://localhost:8080/"
        },
        "id": "i6LGQPq5A9ph",
        "outputId": "8188a50e-4cc0-44ba-aa3e-bb24335469f7"
      },
      "execution_count": null,
      "outputs": [
        {
          "output_type": "stream",
          "name": "stdout",
          "text": [
            "replaced string :  I like orange\n"
          ]
        }
      ]
    },
    {
      "cell_type": "code",
      "source": [
        "# 6. Write a code to create a list with numbers 1 to 5 and print it.\n",
        "\n",
        "create_list=[1,2,3,4,5]\n",
        "print(\"list number : \",create_list)"
      ],
      "metadata": {
        "colab": {
          "base_uri": "https://localhost:8080/"
        },
        "id": "zgLt9LpaHR7v",
        "outputId": "470fc91d-a59b-439b-9155-008ea5d224d0"
      },
      "execution_count": null,
      "outputs": [
        {
          "output_type": "stream",
          "name": "stdout",
          "text": [
            "list number :  [1, 2, 3, 4, 5]\n"
          ]
        }
      ]
    },
    {
      "cell_type": "code",
      "source": [
        "# 7. Write a code to append the number 10 to the list [1, 2, 3, 4].\n",
        "\n",
        "number=[1,2,3,4]\n",
        "number.append(10)\n",
        "print(\"Updated list : \",number)"
      ],
      "metadata": {
        "colab": {
          "base_uri": "https://localhost:8080/"
        },
        "id": "e0mVCD1QJLxR",
        "outputId": "e932f284-9f88-4235-8d15-3eb1e4f63316"
      },
      "execution_count": null,
      "outputs": [
        {
          "output_type": "stream",
          "name": "stdout",
          "text": [
            "Updated list :  [1, 2, 3, 4, 10]\n"
          ]
        }
      ]
    },
    {
      "cell_type": "code",
      "source": [
        "# 8. Write a code to remove the number 3 from the list [1, 2, 3, 4, 5].\n",
        "\n",
        "number=[1,2,3,4,5]\n",
        "number.remove(3)\n",
        "print(\"Updated list\",number)"
      ],
      "metadata": {
        "colab": {
          "base_uri": "https://localhost:8080/"
        },
        "id": "um6VWZnZKiWU",
        "outputId": "88bd3270-a03e-4ee8-f916-5e74d00bcab5"
      },
      "execution_count": null,
      "outputs": [
        {
          "output_type": "stream",
          "name": "stdout",
          "text": [
            "Updated list [1, 2, 4, 5]\n"
          ]
        }
      ]
    },
    {
      "cell_type": "code",
      "source": [
        "# 9. Write a code to access the second element in the list ['a', 'b', 'c', 'd'].\n",
        "\n",
        "letters=['a','b','c','d']\n",
        "second_element=letters[1]\n",
        "print(\"Second Element :\", second_element)"
      ],
      "metadata": {
        "colab": {
          "base_uri": "https://localhost:8080/"
        },
        "id": "xPBINN55L4XC",
        "outputId": "5c771c56-efe1-4a4e-9619-0fb5c55d7862"
      },
      "execution_count": null,
      "outputs": [
        {
          "output_type": "stream",
          "name": "stdout",
          "text": [
            "Second Element : b\n"
          ]
        }
      ]
    },
    {
      "cell_type": "code",
      "source": [
        "# 10. Write a code to reverse the list [10, 20, 30, 40, 50].\n",
        "\n",
        "numbers=[10,20,30,40,50]\n",
        "numbers.reverse()\n",
        "print(\"Reversed Number :\",numbers)"
      ],
      "metadata": {
        "colab": {
          "base_uri": "https://localhost:8080/"
        },
        "id": "z-oKp2vQMn0m",
        "outputId": "6b9a0d29-491b-4c4a-a9dd-91a2fe2daf24"
      },
      "execution_count": null,
      "outputs": [
        {
          "output_type": "stream",
          "name": "stdout",
          "text": [
            "Reversed Number : [50, 40, 30, 20, 10]\n"
          ]
        }
      ]
    },
    {
      "cell_type": "code",
      "source": [
        "# 11.  Write a code to create a tuple with the elements 100, 200, 300 and print it.\n",
        "\n",
        "create_tuple=(100,200,300)\n",
        "print(\"tuple : \",create_tuple)"
      ],
      "metadata": {
        "colab": {
          "base_uri": "https://localhost:8080/"
        },
        "id": "iSqGWHRiOV5P",
        "outputId": "3bfe5dde-6cfa-4882-aa94-c2a284fbb3c9"
      },
      "execution_count": null,
      "outputs": [
        {
          "output_type": "stream",
          "name": "stdout",
          "text": [
            "tuple :  (100, 200, 300)\n"
          ]
        }
      ]
    },
    {
      "cell_type": "code",
      "source": [
        "# 12. Write a code to access the second-to-last element of the tuple ('red', 'green', 'blue', 'yellow').\n",
        "\n",
        "colours=('red', 'green', 'blue', 'yellow')\n",
        "second_to_last_element=colours[-2]\n",
        "print(\"Second to last element: \",second_to_last_element)"
      ],
      "metadata": {
        "colab": {
          "base_uri": "https://localhost:8080/"
        },
        "id": "ci50NwUbPjk1",
        "outputId": "67bf8e9e-1764-4960-977c-a2494de32175"
      },
      "execution_count": null,
      "outputs": [
        {
          "output_type": "stream",
          "name": "stdout",
          "text": [
            "Second to last element:  blue\n"
          ]
        }
      ]
    },
    {
      "cell_type": "code",
      "source": [
        "# 13. Write a code to find the minimum number in the tuple (10, 20, 5, 15).\n",
        "\n",
        "num = (10,20,5,15)\n",
        "a= min(num)\n",
        "print(\"Minimum Number: \",a)"
      ],
      "metadata": {
        "colab": {
          "base_uri": "https://localhost:8080/"
        },
        "id": "7xjlNajDQ1Bg",
        "outputId": "aa57bd31-56b1-47fa-ac54-d1e942f4619a"
      },
      "execution_count": null,
      "outputs": [
        {
          "output_type": "stream",
          "name": "stdout",
          "text": [
            "Minimum Number:  5\n"
          ]
        }
      ]
    },
    {
      "cell_type": "code",
      "source": [
        "# 14. Write a code to find the index of the element \"cat\" in the tuple ('dog', 'cat', 'rabbit').\n",
        "animal=('dog', 'cat', 'rabbit')\n",
        "b= animal.index('cat')\n",
        "print(\"Index of 'cat' is : \",b)"
      ],
      "metadata": {
        "colab": {
          "base_uri": "https://localhost:8080/"
        },
        "id": "rSiWjg_zT1rZ",
        "outputId": "a0d25c6a-93f4-43c6-c8d1-05b71237af3e"
      },
      "execution_count": null,
      "outputs": [
        {
          "output_type": "stream",
          "name": "stdout",
          "text": [
            "Index of 'cat' is :  1\n"
          ]
        }
      ]
    },
    {
      "cell_type": "code",
      "source": [
        "# 15.  Write a code to create a tuple containing three different fruits and check if \"kiwi\" is in it.\n",
        "fruits=('apple','banana','kiwi')\n",
        "\n",
        "if 'kiwi' in fruits:\n",
        "  print(\"Kiwi is in tuple\")\n",
        "else:\n",
        "  print(\"KIwi is not in tuple\")\n"
      ],
      "metadata": {
        "colab": {
          "base_uri": "https://localhost:8080/"
        },
        "id": "S9MpyaMqU78o",
        "outputId": "46af7116-e1d9-4ff4-a729-31d2c8189df7"
      },
      "execution_count": null,
      "outputs": [
        {
          "output_type": "stream",
          "name": "stdout",
          "text": [
            "Kiwi is in tuple\n"
          ]
        }
      ]
    },
    {
      "cell_type": "code",
      "source": [
        "# 16. Write a code to create a set with the elements 'a', 'b', 'c' and print it.\n",
        "\n",
        "charecter={'a','b','c'}\n",
        "print(charecter)"
      ],
      "metadata": {
        "colab": {
          "base_uri": "https://localhost:8080/"
        },
        "id": "RiPb0q4rXaOD",
        "outputId": "5e28e371-f6d0-44b8-e637-d86392db46e1"
      },
      "execution_count": null,
      "outputs": [
        {
          "output_type": "stream",
          "name": "stdout",
          "text": [
            "{'b', 'a', 'c'}\n"
          ]
        }
      ]
    },
    {
      "cell_type": "code",
      "source": [
        "# 17. Write a code to clear all elements from the set {1, 2, 3, 4, 5}.\n",
        "numb={1,2,3,4,5}\n",
        "numb.clear()\n",
        "print(\"Clear Numb : \",numb)\n"
      ],
      "metadata": {
        "colab": {
          "base_uri": "https://localhost:8080/"
        },
        "id": "0ITJQ3t7Yz50",
        "outputId": "0c23ebad-d750-4479-974f-6590860b13a1"
      },
      "execution_count": null,
      "outputs": [
        {
          "output_type": "stream",
          "name": "stdout",
          "text": [
            "Clear Numb :  set()\n"
          ]
        }
      ]
    },
    {
      "cell_type": "code",
      "source": [
        "# 18. Write a code to remove the element 4 from the set {1, 2, 3, 4}.\n",
        "num={1, 2, 3, 4}\n",
        "num.remove(4)\n",
        "print(\"Updated Number: \",num)"
      ],
      "metadata": {
        "colab": {
          "base_uri": "https://localhost:8080/"
        },
        "id": "siMUifSifjSy",
        "outputId": "14d5b8b3-d093-4980-fe70-15455532bb29"
      },
      "execution_count": null,
      "outputs": [
        {
          "output_type": "stream",
          "name": "stdout",
          "text": [
            "Updated Number:  {1, 2, 3}\n"
          ]
        }
      ]
    },
    {
      "cell_type": "code",
      "source": [
        "# 19. Write a code to find the union of two sets {1, 2, 3} and {3, 4, 5}.\n",
        "num1={1, 2, 3}\n",
        "num2={3, 4, 5}\n",
        "u=num1.union(num2)\n",
        "print(\"Unian Number: \",u)"
      ],
      "metadata": {
        "colab": {
          "base_uri": "https://localhost:8080/"
        },
        "id": "C6lQCiJKgJPN",
        "outputId": "798b1302-1e71-4c9d-ce5b-496a75a14764"
      },
      "execution_count": null,
      "outputs": [
        {
          "output_type": "stream",
          "name": "stdout",
          "text": [
            "Unian Number:  {1, 2, 3, 4, 5}\n"
          ]
        }
      ]
    },
    {
      "cell_type": "code",
      "source": [
        "# 20. Write a code to find the intersection of two sets {1, 2, 3} and {2, 3, 4}.\n",
        "set1={1, 2, 3}\n",
        "set2={2, 3, 4}\n",
        "i=set1.intersection(set2)\n",
        "print(\"Intersection Number :\",i)"
      ],
      "metadata": {
        "colab": {
          "base_uri": "https://localhost:8080/"
        },
        "id": "mWlO96cAhTw0",
        "outputId": "c3183fd5-463c-4c95-f3f8-a439624ca7cc"
      },
      "execution_count": null,
      "outputs": [
        {
          "output_type": "stream",
          "name": "stdout",
          "text": [
            "Intersection Number : {2, 3}\n"
          ]
        }
      ]
    },
    {
      "cell_type": "code",
      "source": [
        "# 21. Write a code to create a dictionary with the keys \"name\", \"age\", and \"city\", and print it.\n",
        "dist={\"name\":\"saurav\",\"age\":23,\"city\":\"Nawada\"}\n",
        "print(\"Dictionary:\",dist)"
      ],
      "metadata": {
        "colab": {
          "base_uri": "https://localhost:8080/"
        },
        "id": "UQyleOQEiJCq",
        "outputId": "70012efe-86cb-46e5-e815-be92e436e0f8"
      },
      "execution_count": null,
      "outputs": [
        {
          "output_type": "stream",
          "name": "stdout",
          "text": [
            "Dictionary: {'name': 'saurav', 'age': 23, 'city': 'Nawada'}\n"
          ]
        }
      ]
    },
    {
      "cell_type": "code",
      "source": [
        "# 22. Write a code to add a new key-value pair \"country\": \"USA\" to the dictionary {'name': 'John', 'age': 25}.\n",
        "person={\"name\":\"John\",\"age\":\"25\"}\n",
        "person[\"country\"]=\"USA\"\n",
        "print(person)"
      ],
      "metadata": {
        "colab": {
          "base_uri": "https://localhost:8080/"
        },
        "id": "cxZfcy33jbjH",
        "outputId": "0d8f238f-6daa-4811-f5e7-ae54263c521c"
      },
      "execution_count": 2,
      "outputs": [
        {
          "output_type": "stream",
          "name": "stdout",
          "text": [
            "{'name': 'John', 'age': '25', 'country': 'USA'}\n"
          ]
        }
      ]
    },
    {
      "cell_type": "code",
      "source": [
        "# 23. Write a code to access the value associated with the key \"name\" in the dictionary {'name': 'Alice', 'age': 30}.\n",
        "\n",
        "per={'name': 'Alice', 'age': 30}\n",
        "\n",
        "n=per[\"name\"]\n",
        "print(\"Name : \",n)"
      ],
      "metadata": {
        "id": "qRxqPDAzl1Ab",
        "colab": {
          "base_uri": "https://localhost:8080/"
        },
        "outputId": "9e479a49-edb4-45d5-8662-3a865fc1b4b7"
      },
      "execution_count": 6,
      "outputs": [
        {
          "output_type": "stream",
          "name": "stdout",
          "text": [
            "Name :  Alice\n"
          ]
        }
      ]
    },
    {
      "cell_type": "code",
      "source": [
        "# 24. Write a code to remove the key \"age\" from the dictionary {'name': 'Bob', 'age': 22, 'city': 'New York'}.\n",
        "\n",
        "per1={'name': 'Bob', 'age': 22, 'city': 'New York'}\n",
        "per1.pop('age')\n",
        "print(per1)"
      ],
      "metadata": {
        "colab": {
          "base_uri": "https://localhost:8080/"
        },
        "id": "hpSBYjcnPgh0",
        "outputId": "04876691-427f-46d4-c333-fd42f47cce02"
      },
      "execution_count": 8,
      "outputs": [
        {
          "output_type": "stream",
          "name": "stdout",
          "text": [
            "{'name': 'Bob', 'city': 'New York'}\n"
          ]
        }
      ]
    },
    {
      "cell_type": "code",
      "source": [
        "# 25. Write a code to check if the key \"city\" exists in the dictionary {'name': 'Alice', 'city': 'Paris'}.\n",
        "\n",
        "per2= {'name': 'Alice', 'city': 'Paris'}\n",
        "\n",
        "if 'city' in per2:\n",
        "  print(\"Key 'city' exists in the dictionary.\")\n",
        "else:\n",
        "  print(\"Key 'city' does not exist in the dictionary.\")"
      ],
      "metadata": {
        "colab": {
          "base_uri": "https://localhost:8080/"
        },
        "id": "32nIvO4TRgkY",
        "outputId": "4a34edb5-0efc-4264-8aa5-2052c403fcc7"
      },
      "execution_count": 13,
      "outputs": [
        {
          "output_type": "stream",
          "name": "stdout",
          "text": [
            "Key 'city' exists in the dictionary.\n"
          ]
        }
      ]
    },
    {
      "cell_type": "code",
      "source": [
        "# 26. Write a code to create a list, a tuple, and a dictionary, and print them all.\n",
        "\n",
        "# create a list\n",
        "lis= ['ram','saurav',5,6.5,\"true\"]\n",
        "print(\"list : \",lis)\n",
        "\n",
        "# Create a tuple\n",
        "\n",
        "tup=('rajesh','rakesh',5,4.5)\n",
        "print(\"Tuple : \",tup)\n",
        "\n",
        "# Create a dictionary\n",
        "\n",
        "dist={\"name\":\"saurav\",\"age\":23,\"city\":\"Nawada\"}\n",
        "print(\"Dictionary : \",dist )"
      ],
      "metadata": {
        "colab": {
          "base_uri": "https://localhost:8080/"
        },
        "id": "lT2wFo61WMju",
        "outputId": "b3b82c40-e8ed-42d9-8807-d5961d68ea1c"
      },
      "execution_count": 21,
      "outputs": [
        {
          "output_type": "stream",
          "name": "stdout",
          "text": [
            "list :  ['ram', 'saurav', 5, 6.5, 'true']\n",
            "Tuple :  ('rajesh', 'rakesh', 5, 4.5)\n",
            "Dictionary :  {'name': 'saurav', 'age': 23, 'city': 'Nawada'}\n"
          ]
        }
      ]
    },
    {
      "cell_type": "code",
      "source": [
        "# 27.  Write a code to create a list of 5 random numbers between 1 and 100, sort it in ascending order, and print the result.(replaced).\n",
        "\n",
        "import random\n",
        "random_numbers = [random.randint(1, 100) for _ in range(5)]\n",
        "\n",
        "random_numbers.sort()\n",
        "print(\"Sorted ascending Number: \",random_numbers)\n"
      ],
      "metadata": {
        "colab": {
          "base_uri": "https://localhost:8080/"
        },
        "id": "6DZPMxsHXhuz",
        "outputId": "846ff9e7-51a1-481e-f4bd-9a16e4f19c91"
      },
      "execution_count": 28,
      "outputs": [
        {
          "output_type": "stream",
          "name": "stdout",
          "text": [
            "Sorted ascending Number:  [34, 38, 77, 83, 84]\n"
          ]
        }
      ]
    },
    {
      "cell_type": "code",
      "source": [
        "# 28. Write a code to create a list with strings and print the element at the third index.\n",
        "\n",
        "my_list = [\"apple\", \"banana\", \"cherry\", \"date\", \"orange\"]\n",
        "\n",
        "print(\"Element at index 3:\", my_list[3])\n",
        "\n"
      ],
      "metadata": {
        "colab": {
          "base_uri": "https://localhost:8080/"
        },
        "id": "oauBE46WazNs",
        "outputId": "87115d94-3d5d-41a1-8311-c7cb7ad1ed85"
      },
      "execution_count": 36,
      "outputs": [
        {
          "output_type": "stream",
          "name": "stdout",
          "text": [
            "Element at index 3: date\n"
          ]
        }
      ]
    },
    {
      "cell_type": "code",
      "source": [
        "# 29. Write a code to combine two dictionaries into one and print the result.\n",
        "dist1={\"a\": 1, \"b\": 2, \"c\": 3}\n",
        "dist2={\"d\": 4, \"e\": 5, \"f\": 6}\n",
        "\n",
        "dist1.update(dist2)\n",
        "print(\"Combine Dictionaries : \",dist1)"
      ],
      "metadata": {
        "colab": {
          "base_uri": "https://localhost:8080/"
        },
        "id": "WZhFQ8sjdYqs",
        "outputId": "a5ed2c69-686d-431d-a2a6-57930120a922"
      },
      "execution_count": 32,
      "outputs": [
        {
          "output_type": "stream",
          "name": "stdout",
          "text": [
            "Combine Dictionaries :  {'a': 1, 'b': 2, 'c': 3, 'd': 4, 'e': 5, 'f': 6}\n"
          ]
        }
      ]
    },
    {
      "cell_type": "code",
      "source": [
        "# 30. Write a code to convert a list of strings into a set.\n",
        "\n",
        "# Creating a list of strings\n",
        "my_list = [\"apple\", \"banana\", \"cherry\", \"apple\", \"banana\"]\n",
        "\n",
        "# Converting the list to a set\n",
        "my_set = set(my_list)\n",
        "\n",
        "print(\"Set: \", my_set)\n"
      ],
      "metadata": {
        "colab": {
          "base_uri": "https://localhost:8080/"
        },
        "id": "x0xjXtNOhfXW",
        "outputId": "0220160e-1ec2-43b0-b0e4-6805a714ada9"
      },
      "execution_count": 33,
      "outputs": [
        {
          "output_type": "stream",
          "name": "stdout",
          "text": [
            "Set:  {'apple', 'banana', 'cherry'}\n"
          ]
        }
      ]
    },
    {
      "cell_type": "code",
      "source": [],
      "metadata": {
        "id": "ZIRTWQpXjPPW"
      },
      "execution_count": null,
      "outputs": []
    }
  ]
}